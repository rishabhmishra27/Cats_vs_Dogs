{
 "cells": [
  {
   "cell_type": "code",
   "execution_count": 18,
   "metadata": {
    "collapsed": false
   },
   "outputs": [],
   "source": [
    "import os\n",
    "os.chdir(\"/home/puneetj/Data_DL\")\n",
    "import numpy as np\n",
    "from glob import glob\n",
    "from shutil import copyfile\n",
    "from vgg_bn import Vgg16BN\n",
    "from keras.callbacks import ModelCheckpoint\n",
    "\n",
    "ROOT_DIR = os.getcwd()\n",
    "DATA_HOME_DIR = ROOT_DIR\n",
    "%matplotlib inline"
   ]
  },
  {
   "cell_type": "code",
   "execution_count": 2,
   "metadata": {
    "collapsed": false
   },
   "outputs": [],
   "source": []
  },
  {
   "cell_type": "code",
   "execution_count": 22,
   "metadata": {
    "collapsed": true
   },
   "outputs": [],
   "source": [
    "data_path = \"/home/puneetj/Cats_Dogs\" + '/' \n",
    "train_path = data_path + 'train/'\n",
    "valid_path = data_path + 'validation/'\n",
    "test_path =  data_path + 'test/'\n",
    "model_path = data_path + 'models/'\n",
    "submission_path = data_path + 'submissions/'\n",
    "\n",
    "# data\n",
    "img_width, img_height = 224, 224\n",
    "batch_size = 128\n",
    "nb_train_samples = 20000\n",
    "nb_valid_samples = 5000\n",
    "nb_test_samples = 12500\n",
    "classes = [\"cats\", \"dogs\"]\n",
    "n_classes = len(classes)\n",
    "\n",
    "# model\n",
    "nb_epoch = 10\n",
    "nb_aug = False\n",
    "lr = 1"
   ]
  },
  {
   "cell_type": "code",
   "execution_count": 20,
   "metadata": {
    "collapsed": false
   },
   "outputs": [
    {
     "name": "stdout",
     "output_type": "stream",
     "text": [
      "poped\n",
      "____________________________________________________________________________________________________\n",
      "Layer (type)                     Output Shape          Param #     Connected to                     \n",
      "====================================================================================================\n",
      "lambda_2 (Lambda)                (None, 3, 224, 224)   0           lambda_input_2[0][0]             \n",
      "____________________________________________________________________________________________________\n",
      "zeropadding2d_14 (ZeroPadding2D) (None, 3, 226, 226)   0           lambda_2[0][0]                   \n",
      "____________________________________________________________________________________________________\n",
      "convolution2d_14 (Convolution2D) (None, 64, 224, 224)  1792        zeropadding2d_14[0][0]           \n",
      "____________________________________________________________________________________________________\n",
      "zeropadding2d_15 (ZeroPadding2D) (None, 64, 226, 226)  0           convolution2d_14[0][0]           \n",
      "____________________________________________________________________________________________________\n",
      "convolution2d_15 (Convolution2D) (None, 64, 224, 224)  36928       zeropadding2d_15[0][0]           \n",
      "____________________________________________________________________________________________________\n",
      "maxpooling2d_5 (MaxPooling2D)    (None, 64, 112, 112)  0           convolution2d_15[0][0]           \n",
      "____________________________________________________________________________________________________\n",
      "zeropadding2d_16 (ZeroPadding2D) (None, 64, 114, 114)  0           maxpooling2d_5[0][0]             \n",
      "____________________________________________________________________________________________________\n",
      "convolution2d_16 (Convolution2D) (None, 128, 112, 112) 73856       zeropadding2d_16[0][0]           \n",
      "____________________________________________________________________________________________________\n",
      "zeropadding2d_17 (ZeroPadding2D) (None, 128, 114, 114) 0           convolution2d_16[0][0]           \n",
      "____________________________________________________________________________________________________\n",
      "convolution2d_17 (Convolution2D) (None, 128, 112, 112) 147584      zeropadding2d_17[0][0]           \n",
      "____________________________________________________________________________________________________\n",
      "maxpooling2d_6 (MaxPooling2D)    (None, 128, 56, 56)   0           convolution2d_17[0][0]           \n",
      "____________________________________________________________________________________________________\n",
      "zeropadding2d_18 (ZeroPadding2D) (None, 128, 58, 58)   0           maxpooling2d_6[0][0]             \n",
      "____________________________________________________________________________________________________\n",
      "convolution2d_18 (Convolution2D) (None, 256, 56, 56)   295168      zeropadding2d_18[0][0]           \n",
      "____________________________________________________________________________________________________\n",
      "zeropadding2d_19 (ZeroPadding2D) (None, 256, 58, 58)   0           convolution2d_18[0][0]           \n",
      "____________________________________________________________________________________________________\n",
      "convolution2d_19 (Convolution2D) (None, 256, 56, 56)   590080      zeropadding2d_19[0][0]           \n",
      "____________________________________________________________________________________________________\n",
      "zeropadding2d_20 (ZeroPadding2D) (None, 256, 58, 58)   0           convolution2d_19[0][0]           \n",
      "____________________________________________________________________________________________________\n",
      "convolution2d_20 (Convolution2D) (None, 256, 56, 56)   590080      zeropadding2d_20[0][0]           \n",
      "____________________________________________________________________________________________________\n",
      "maxpooling2d_7 (MaxPooling2D)    (None, 256, 28, 28)   0           convolution2d_20[0][0]           \n",
      "____________________________________________________________________________________________________\n",
      "zeropadding2d_21 (ZeroPadding2D) (None, 256, 30, 30)   0           maxpooling2d_7[0][0]             \n",
      "____________________________________________________________________________________________________\n",
      "convolution2d_21 (Convolution2D) (None, 512, 28, 28)   1180160     zeropadding2d_21[0][0]           \n",
      "____________________________________________________________________________________________________\n",
      "zeropadding2d_22 (ZeroPadding2D) (None, 512, 30, 30)   0           convolution2d_21[0][0]           \n",
      "____________________________________________________________________________________________________\n",
      "convolution2d_22 (Convolution2D) (None, 512, 28, 28)   2359808     zeropadding2d_22[0][0]           \n",
      "____________________________________________________________________________________________________\n",
      "zeropadding2d_23 (ZeroPadding2D) (None, 512, 30, 30)   0           convolution2d_22[0][0]           \n",
      "____________________________________________________________________________________________________\n",
      "convolution2d_23 (Convolution2D) (None, 512, 28, 28)   2359808     zeropadding2d_23[0][0]           \n",
      "____________________________________________________________________________________________________\n",
      "maxpooling2d_8 (MaxPooling2D)    (None, 512, 14, 14)   0           convolution2d_23[0][0]           \n",
      "____________________________________________________________________________________________________\n",
      "zeropadding2d_24 (ZeroPadding2D) (None, 512, 16, 16)   0           maxpooling2d_8[0][0]             \n",
      "____________________________________________________________________________________________________\n",
      "convolution2d_24 (Convolution2D) (None, 512, 14, 14)   2359808     zeropadding2d_24[0][0]           \n",
      "____________________________________________________________________________________________________\n",
      "zeropadding2d_25 (ZeroPadding2D) (None, 512, 16, 16)   0           convolution2d_24[0][0]           \n",
      "____________________________________________________________________________________________________\n",
      "convolution2d_25 (Convolution2D) (None, 512, 14, 14)   2359808     zeropadding2d_25[0][0]           \n",
      "____________________________________________________________________________________________________\n",
      "zeropadding2d_26 (ZeroPadding2D) (None, 512, 16, 16)   0           convolution2d_25[0][0]           \n",
      "____________________________________________________________________________________________________\n",
      "convolution2d_26 (Convolution2D) (None, 512, 14, 14)   2359808     zeropadding2d_26[0][0]           \n",
      "____________________________________________________________________________________________________\n",
      "batchnormalization_4 (BatchNorma (None, 512, 14, 14)   56          convolution2d_26[0][0]           \n",
      "____________________________________________________________________________________________________\n",
      "flatten_2 (Flatten)              (None, 100352)        0           batchnormalization_4[0][0]       \n",
      "____________________________________________________________________________________________________\n",
      "dense_4 (Dense)                  (None, 2048)          205522944   flatten_2[0][0]                  \n",
      "____________________________________________________________________________________________________\n",
      "batchnormalization_5 (BatchNorma (None, 2048)          8192        dense_4[0][0]                    \n",
      "____________________________________________________________________________________________________\n",
      "dropout_3 (Dropout)              (None, 2048)          0           batchnormalization_5[0][0]       \n",
      "____________________________________________________________________________________________________\n",
      "dense_5 (Dense)                  (None, 1024)          2098176     dropout_3[0][0]                  \n",
      "____________________________________________________________________________________________________\n",
      "batchnormalization_6 (BatchNorma (None, 1024)          4096        dense_5[0][0]                    \n",
      "____________________________________________________________________________________________________\n",
      "dropout_4 (Dropout)              (None, 1024)          0           batchnormalization_6[0][0]       \n",
      "____________________________________________________________________________________________________\n",
      "dense_6 (Dense)                  (None, 2)             2050        dropout_4[0][0]                  \n",
      "====================================================================================================\n",
      "Total params: 222,350,202\n",
      "Trainable params: 222,344,030\n",
      "Non-trainable params: 6,172\n",
      "____________________________________________________________________________________________________\n"
     ]
    },
    {
     "name": "stderr",
     "output_type": "stream",
     "text": [
      "/home/puneetj/anaconda2/lib/python2.7/site-packages/keras/layers/core.py:622: UserWarning: `output_shape` argument not specified for layer lambda_2 and cannot be automatically inferred with the Theano backend. Defaulting to output shape `(None, 3, 224, 224)` (same as input shape). If the expected output shape is different, specify it via the `output_shape` argument.\n",
      "  .format(self.name, input_shape))\n"
     ]
    }
   ],
   "source": [
    "vgg = Vgg16BN(size=(img_width, img_height), n_classes=n_classes,ft = False, batch_size=batch_size, lr=lr,weights_file =\n",
    "            '/home/puneetj/Cats_Dogs/models/0.06-loss_224x224_10epoch_15aug_1lr_vgg16-bnitr3.h5')\n",
    "model = vgg.model\n",
    "model.summary()"
   ]
  },
  {
   "cell_type": "code",
   "execution_count": 17,
   "metadata": {
    "collapsed": false
   },
   "outputs": [
    {
     "ename": "AttributeError",
     "evalue": "Vgg16BN instance has no attribute 'model'",
     "output_type": "error",
     "traceback": [
      "\u001b[1;31m---------------------------------------------------------------------------\u001b[0m",
      "\u001b[1;31mAttributeError\u001b[0m                            Traceback (most recent call last)",
      "\u001b[1;32m<ipython-input-17-262a56a48903>\u001b[0m in \u001b[0;36m<module>\u001b[1;34m()\u001b[0m\n\u001b[1;32m----> 1\u001b[1;33m \u001b[0mvgg\u001b[0m\u001b[1;33m.\u001b[0m\u001b[0mmodel\u001b[0m\u001b[1;33m(\u001b[0m\u001b[1;33m)\u001b[0m\u001b[1;33m\u001b[0m\u001b[0m\n\u001b[0m",
      "\u001b[1;31mAttributeError\u001b[0m: Vgg16BN instance has no attribute 'model'"
     ]
    }
   ],
   "source": [
    "vgg.model()"
   ]
  },
  {
   "cell_type": "code",
   "execution_count": 8,
   "metadata": {
    "collapsed": false
   },
   "outputs": [
    {
     "name": "stdout",
     "output_type": "stream",
     "text": [
      "Found 20000 images belonging to 2 classes.\n",
      "Found 5000 images belonging to 2 classes.\n",
      "Epoch 1/10\n",
      "20000/20000 [==============================] - 21788s - loss: 0.1249 - acc: 0.9601 - val_loss: 0.0823 - val_acc: 0.9800\n",
      "Epoch 2/10\n",
      "20000/20000 [==============================] - 25741s - loss: 0.0670 - acc: 0.9778 - val_loss: 0.0759 - val_acc: 0.9810\n",
      "Epoch 3/10\n",
      "20000/20000 [==============================] - 17606s - loss: 0.0539 - acc: 0.9822 - val_loss: 0.0615 - val_acc: 0.9832\n",
      "Epoch 4/10\n",
      "20000/20000 [==============================] - 17572s - loss: 0.0412 - acc: 0.9862 - val_loss: 0.0533 - val_acc: 0.9824\n",
      "Epoch 5/10\n",
      "20000/20000 [==============================] - 17611s - loss: 0.0338 - acc: 0.9887 - val_loss: 0.0549 - val_acc: 0.9834\n",
      "Epoch 6/10\n",
      "20000/20000 [==============================] - 17647s - loss: 0.0306 - acc: 0.9900 - val_loss: 0.0542 - val_acc: 0.9826\n",
      "Epoch 7/10\n",
      "20000/20000 [==============================] - 17622s - loss: 0.0229 - acc: 0.9922 - val_loss: 0.0508 - val_acc: 0.9850\n",
      "Epoch 8/10\n",
      "20000/20000 [==============================] - 17583s - loss: 0.0210 - acc: 0.9929 - val_loss: 0.0688 - val_acc: 0.9822\n",
      "Epoch 9/10\n",
      "20000/20000 [==============================] - 17589s - loss: 0.0175 - acc: 0.9942 - val_loss: 0.0656 - val_acc: 0.9822\n",
      "Epoch 10/10\n",
      "20000/20000 [==============================] - 17593s - loss: 0.0144 - acc: 0.9946 - val_loss: 0.0805 - val_acc: 0.9808\n"
     ]
    }
   ],
   "source": [
    "vgg.fit(train_path, valid_path,\n",
    "          nb_trn_samples=nb_train_samples,\n",
    "          nb_val_samples=nb_valid_samples,          \n",
    "          nb_epoch=nb_epoch,\n",
    "          callbacks=[ckpt],\n",
    "          aug=nb_aug)"
   ]
  },
  {
   "cell_type": "code",
   "execution_count": 21,
   "metadata": {
    "collapsed": true
   },
   "outputs": [],
   "source": [
    "info_string = \"{0}x{1}_{2}epoch_{3}aug_{4}lr_vgg16-bn\".format(img_width, img_height, nb_epoch, nb_aug, lr)\n",
    "ckpt_fn = model_path + '{val_loss:.2f}-loss_' + info_string + 'itr3.h5'\n",
    "\n",
    "ckpt = ModelCheckpoint(filepath=ckpt_fn,\n",
    "                      monitor='val_loss',\n",
    "                      save_best_only=True,\n",
    "                      save_weights_only=True)"
   ]
  },
  {
   "cell_type": "code",
   "execution_count": 25,
   "metadata": {
    "collapsed": false
   },
   "outputs": [
    {
     "name": "stdout",
     "output_type": "stream",
     "text": [
      "Found 12500 images belonging to 1 classes.\n",
      "Averaging Predictions Across Augmentations...\n"
     ]
    }
   ],
   "source": [
    "# generate prediction\n",
    "predictions, filenames = vgg.test('/home/puneetj/Cats_Dogs/test/',12500 )\n",
    "\n",
    "print(\"Averaging Predictions Across Augmentations...\")"
   ]
  },
  {
   "cell_type": "code",
   "execution_count": 26,
   "metadata": {
    "collapsed": false
   },
   "outputs": [
    {
     "data": {
      "text/plain": [
       "array([[  7.79513121e-11,   1.00000000e+00],\n",
       "       [  1.00000000e+00,   2.08797261e-17],\n",
       "       [  9.98776019e-01,   1.22401002e-03],\n",
       "       ..., \n",
       "       [  1.00000000e+00,   2.08310962e-19],\n",
       "       [  2.08977053e-05,   9.99979079e-01],\n",
       "       [  1.67317230e-14,   1.00000000e+00]], dtype=float32)"
      ]
     },
     "execution_count": 26,
     "metadata": {},
     "output_type": "execute_result"
    }
   ],
   "source": [
    "predictions"
   ]
  },
  {
   "cell_type": "code",
   "execution_count": 46,
   "metadata": {
    "collapsed": true
   },
   "outputs": [],
   "source": [
    "# clip predictions\n",
    "c = 0.01\n",
    "preds = np.clip(predictions, c, 1-c)"
   ]
  },
  {
   "cell_type": "code",
   "execution_count": 27,
   "metadata": {
    "collapsed": false
   },
   "outputs": [
    {
     "name": "stdout",
     "output_type": "stream",
     "text": [
      "Writing Predictions to CSV...\n",
      "(0, '/', 12500)\n",
      "(2500, '/', 12500)\n",
      "(5000, '/', 12500)\n",
      "(7500, '/', 12500)\n",
      "(10000, '/', 12500)\n",
      "Done.\n"
     ]
    }
   ],
   "source": [
    "sub_file = submission_path + info_string + '5.csv'\n",
    "\n",
    "with open(sub_file, 'w') as f:\n",
    "    print(\"Writing Predictions to CSV...\")\n",
    "    f.write('id,label\\n')\n",
    "    for i, image_name in enumerate(filenames):\n",
    "        pred = ['%.6f' % p for p in predictions[i, :]]\n",
    "        if i % 2500 == 0:\n",
    "            print(i, '/', nb_test_samples)\n",
    "        f.write('%s,%s\\n' % (os.path.basename(image_name).replace('.jpg', ''), (pred[1])))\n",
    "    print(\"Done.\")"
   ]
  },
  {
   "cell_type": "code",
   "execution_count": 53,
   "metadata": {
    "collapsed": false
   },
   "outputs": [
    {
     "data": {
      "text/plain": [
       "array([[  7.60817826e-01,   2.39182174e-01],\n",
       "       [  5.35900235e-01,   4.64099765e-01],\n",
       "       [  9.99850929e-01,   1.49106534e-04],\n",
       "       ..., \n",
       "       [  9.99231040e-01,   7.69072212e-04],\n",
       "       [  9.99916553e-01,   8.34641614e-05],\n",
       "       [  9.99999940e-01,   6.72104647e-08]], dtype=float32)"
      ]
     },
     "execution_count": 53,
     "metadata": {},
     "output_type": "execute_result"
    }
   ],
   "source": [
    "predictions"
   ]
  }
 ],
 "metadata": {
  "kernelspec": {
   "display_name": "Python 2",
   "language": "python",
   "name": "python2"
  },
  "language_info": {
   "codemirror_mode": {
    "name": "ipython",
    "version": 2
   },
   "file_extension": ".py",
   "mimetype": "text/x-python",
   "name": "python",
   "nbconvert_exporter": "python",
   "pygments_lexer": "ipython2",
   "version": "2.7.13"
  }
 },
 "nbformat": 4,
 "nbformat_minor": 0
}
